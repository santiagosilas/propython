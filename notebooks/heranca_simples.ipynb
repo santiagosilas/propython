{
 "cells": [
  {
   "cell_type": "code",
   "execution_count": 1,
   "metadata": {
    "collapsed": true
   },
   "outputs": [],
   "source": [
    "class Pessoa:\n",
    "    def __init__(self, nome, email, telefone):\n",
    "        self.nome = nome\n",
    "        self.email = email\n",
    "        self.telefone = telefone\n",
    "    def __repr__(self):\n",
    "        return '<Pessoa {0}>'.format(self.nome)"
   ]
  },
  {
   "cell_type": "code",
   "execution_count": 2,
   "metadata": {},
   "outputs": [
    {
     "name": "stdout",
     "output_type": "stream",
     "text": [
      "<Pessoa Fulano de Tal>\n"
     ]
    }
   ],
   "source": [
    "p = Pessoa('Fulano de Tal', 'fulano@fulano.com', '1111-1111')\n",
    "print(p)"
   ]
  },
  {
   "cell_type": "code",
   "execution_count": 11,
   "metadata": {
    "collapsed": true
   },
   "outputs": [],
   "source": [
    "class Aluno(Pessoa):\n",
    "    def __init__(self, nome, email, tel, matricula):\n",
    "        super(Aluno, self).__init__(nome, email, tel)\n",
    "        self.matricula = matricula\n",
    "    def __repr__(self):\n",
    "        return '<Aluno {0} - Matrícula: {1}>'.format(self.nome, self.matricula)\n",
    "        \n",
    "a = Aluno('Fulano de Tal', 'fulano@fulano.com', '1111-1111', '1234')"
   ]
  },
  {
   "cell_type": "code",
   "execution_count": 12,
   "metadata": {},
   "outputs": [
    {
     "name": "stdout",
     "output_type": "stream",
     "text": [
      "<Aluno Fulano de Tal - Matrícula: 1234>\n"
     ]
    }
   ],
   "source": [
    "print(a)"
   ]
  },
  {
   "cell_type": "code",
   "execution_count": null,
   "metadata": {
    "collapsed": true
   },
   "outputs": [],
   "source": []
  }
 ],
 "metadata": {
  "kernelspec": {
   "display_name": "Python 3",
   "language": "python",
   "name": "python3"
  },
  "language_info": {
   "codemirror_mode": {
    "name": "ipython",
    "version": 3
   },
   "file_extension": ".py",
   "mimetype": "text/x-python",
   "name": "python",
   "nbconvert_exporter": "python",
   "pygments_lexer": "ipython3",
   "version": "3.6.1"
  }
 },
 "nbformat": 4,
 "nbformat_minor": 2
}
