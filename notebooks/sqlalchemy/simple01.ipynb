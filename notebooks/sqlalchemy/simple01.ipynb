{
 "cells": [
  {
   "cell_type": "code",
   "execution_count": 36,
   "metadata": {},
   "outputs": [
    {
     "name": "stdout",
     "output_type": "stream",
     "text": [
      "2017-10-16 21:07:52,000 INFO sqlalchemy.engine.base.Engine SELECT CAST('test plain returns' AS VARCHAR(60)) AS anon_1\n",
      "2017-10-16 21:07:52,002 INFO sqlalchemy.engine.base.Engine ()\n",
      "2017-10-16 21:07:52,004 INFO sqlalchemy.engine.base.Engine SELECT CAST('test unicode returns' AS VARCHAR(60)) AS anon_1\n",
      "2017-10-16 21:07:52,006 INFO sqlalchemy.engine.base.Engine ()\n",
      "2017-10-16 21:07:52,008 INFO sqlalchemy.engine.base.Engine PRAGMA table_info(\"enderecos\")\n",
      "2017-10-16 21:07:52,009 INFO sqlalchemy.engine.base.Engine ()\n",
      "2017-10-16 21:07:52,011 INFO sqlalchemy.engine.base.Engine PRAGMA table_info(\"pessoas\")\n",
      "2017-10-16 21:07:52,012 INFO sqlalchemy.engine.base.Engine ()\n",
      "2017-10-16 21:07:52,015 INFO sqlalchemy.engine.base.Engine \n",
      "DROP TABLE pessoas\n",
      "2017-10-16 21:07:52,017 INFO sqlalchemy.engine.base.Engine ()\n",
      "2017-10-16 21:07:52,025 INFO sqlalchemy.engine.base.Engine COMMIT\n",
      "2017-10-16 21:07:52,027 INFO sqlalchemy.engine.base.Engine \n",
      "DROP TABLE enderecos\n",
      "2017-10-16 21:07:52,029 INFO sqlalchemy.engine.base.Engine ()\n",
      "2017-10-16 21:07:52,036 INFO sqlalchemy.engine.base.Engine COMMIT\n",
      "2017-10-16 21:07:52,038 INFO sqlalchemy.engine.base.Engine PRAGMA table_info(\"enderecos\")\n",
      "2017-10-16 21:07:52,040 INFO sqlalchemy.engine.base.Engine ()\n",
      "2017-10-16 21:07:52,043 INFO sqlalchemy.engine.base.Engine PRAGMA table_info(\"pessoas\")\n",
      "2017-10-16 21:07:52,045 INFO sqlalchemy.engine.base.Engine ()\n",
      "2017-10-16 21:07:52,046 INFO sqlalchemy.engine.base.Engine \n",
      "CREATE TABLE enderecos (\n",
      "\tid INTEGER NOT NULL, \n",
      "\tlogradouro VARCHAR(100) NOT NULL, \n",
      "\tPRIMARY KEY (id)\n",
      ")\n",
      "\n",
      "\n",
      "2017-10-16 21:07:52,048 INFO sqlalchemy.engine.base.Engine ()\n",
      "2017-10-16 21:07:52,056 INFO sqlalchemy.engine.base.Engine COMMIT\n",
      "2017-10-16 21:07:52,058 INFO sqlalchemy.engine.base.Engine \n",
      "CREATE TABLE pessoas (\n",
      "\tid INTEGER NOT NULL, \n",
      "\tnome VARCHAR(100) NOT NULL, \n",
      "\tid_endereco INTEGER NOT NULL, \n",
      "\tPRIMARY KEY (id), \n",
      "\tFOREIGN KEY(id_endereco) REFERENCES enderecos (id)\n",
      ")\n",
      "\n",
      "\n",
      "2017-10-16 21:07:52,061 INFO sqlalchemy.engine.base.Engine ()\n",
      "2017-10-16 21:07:52,069 INFO sqlalchemy.engine.base.Engine COMMIT\n"
     ]
    }
   ],
   "source": [
    "from sqlalchemy.ext.declarative import declarative_base\n",
    "from sqlalchemy import Column, String, Integer, ForeignKey\n",
    "from sqlalchemy.orm import sessionmaker, mapper\n",
    "\n",
    "from sqlalchemy import create_engine\n",
    "from sqlalchemy_utils import database_exists, create_database, drop_database\n",
    "\n",
    "_url = 'sqlite:///database.db'\n",
    "\n",
    "# cria o engine e o declarative_base\n",
    "engine = create_engine(_url, echo=True)\n",
    "\n",
    "Base = declarative_base(bind=engine)\n",
    "\n",
    "class Endereco(Base):\n",
    "    __tablename__ = 'enderecos'\n",
    "    id = Column(Integer, primary_key=True)\n",
    "    logradouro = Column(String(100), nullable=False)\n",
    "\n",
    "    def __init__(self, logradouro):\n",
    "        self.logradouro = logradouro\n",
    "\n",
    "    def __str__(self):\n",
    "        return self.nome\n",
    "\n",
    "class Pessoa(Base):\n",
    "    __tablename__ = 'pessoas'\n",
    "    id = Column(Integer, primary_key=True)\n",
    "    nome = Column(String(100), nullable=False)\n",
    "    id_endereco = Column(Integer, ForeignKey('enderecos.id'), nullable=False)\n",
    "\n",
    "    def __init__(self, nome, id_endereco):\n",
    "        self.nome = nome\n",
    "        self.id_endereco = id_endereco\n",
    "\n",
    "    def __str__(self):\n",
    "        return self.nome\n",
    "    \n",
    "\n",
    "\n",
    "if __name__ == '__main__':\n",
    "    if database_exists(engine.url):\n",
    "        Base.metadata.drop_all()\n",
    "    #cria as tabelas no banco (caso nao existam)\n",
    "    Base.metadata.create_all()"
   ]
  },
  {
   "cell_type": "code",
   "execution_count": 37,
   "metadata": {
    "collapsed": true
   },
   "outputs": [],
   "source": [
    "# configure Session class with desired options\n",
    "Session = sessionmaker()\n",
    "Session.configure(bind=engine)\n",
    "\n",
    "session = Session()"
   ]
  },
  {
   "cell_type": "code",
   "execution_count": 38,
   "metadata": {},
   "outputs": [
    {
     "name": "stdout",
     "output_type": "stream",
     "text": [
      "2017-10-16 21:07:56,728 INFO sqlalchemy.engine.base.Engine BEGIN (implicit)\n",
      "2017-10-16 21:07:56,730 INFO sqlalchemy.engine.base.Engine INSERT INTO enderecos (logradouro) VALUES (?)\n",
      "2017-10-16 21:07:56,732 INFO sqlalchemy.engine.base.Engine ('Rua XXX',)\n",
      "2017-10-16 21:07:56,735 INFO sqlalchemy.engine.base.Engine COMMIT\n"
     ]
    }
   ],
   "source": [
    "e = Endereco('Rua XXX')\n",
    "session.add(e)\n",
    "session.commit()"
   ]
  },
  {
   "cell_type": "code",
   "execution_count": 39,
   "metadata": {},
   "outputs": [
    {
     "name": "stdout",
     "output_type": "stream",
     "text": [
      "2017-10-16 21:07:57,217 INFO sqlalchemy.engine.base.Engine BEGIN (implicit)\n",
      "2017-10-16 21:07:57,219 INFO sqlalchemy.engine.base.Engine SELECT enderecos.id AS enderecos_id, enderecos.logradouro AS enderecos_logradouro \n",
      "FROM enderecos \n",
      "WHERE enderecos.id = ?\n",
      "2017-10-16 21:07:57,220 INFO sqlalchemy.engine.base.Engine (1,)\n"
     ]
    },
    {
     "data": {
      "text/plain": [
       "1"
      ]
     },
     "execution_count": 39,
     "metadata": {},
     "output_type": "execute_result"
    }
   ],
   "source": [
    "e.id"
   ]
  },
  {
   "cell_type": "code",
   "execution_count": 40,
   "metadata": {},
   "outputs": [],
   "source": [
    "p = Pessoa('Fulano', e.id)"
   ]
  },
  {
   "cell_type": "code",
   "execution_count": 41,
   "metadata": {
    "collapsed": true
   },
   "outputs": [],
   "source": [
    "session.add(p)"
   ]
  },
  {
   "cell_type": "code",
   "execution_count": 42,
   "metadata": {},
   "outputs": [
    {
     "name": "stdout",
     "output_type": "stream",
     "text": [
      "2017-10-16 21:08:21,636 INFO sqlalchemy.engine.base.Engine INSERT INTO pessoas (nome, id_endereco) VALUES (?, ?)\n",
      "2017-10-16 21:08:21,638 INFO sqlalchemy.engine.base.Engine ('Fulano', 1)\n",
      "2017-10-16 21:08:21,642 INFO sqlalchemy.engine.base.Engine COMMIT\n"
     ]
    }
   ],
   "source": [
    "session.commit()"
   ]
  },
  {
   "cell_type": "code",
   "execution_count": 43,
   "metadata": {},
   "outputs": [
    {
     "name": "stdout",
     "output_type": "stream",
     "text": [
      "2017-10-16 21:09:14,343 INFO sqlalchemy.engine.base.Engine BEGIN (implicit)\n",
      "2017-10-16 21:09:14,345 INFO sqlalchemy.engine.base.Engine SELECT pessoas.id AS pessoas_id, pessoas.nome AS pessoas_nome, pessoas.id_endereco AS pessoas_id_endereco \n",
      "FROM pessoas \n",
      "WHERE pessoas.id = ?\n",
      "2017-10-16 21:09:14,347 INFO sqlalchemy.engine.base.Engine (1,)\n"
     ]
    },
    {
     "data": {
      "text/plain": [
       "1"
      ]
     },
     "execution_count": 43,
     "metadata": {},
     "output_type": "execute_result"
    }
   ],
   "source": [
    "p.id_endereco"
   ]
  },
  {
   "cell_type": "code",
   "execution_count": null,
   "metadata": {
    "collapsed": true
   },
   "outputs": [],
   "source": []
  }
 ],
 "metadata": {
  "kernelspec": {
   "display_name": "Python 3",
   "language": "python",
   "name": "python3"
  },
  "language_info": {
   "codemirror_mode": {
    "name": "ipython",
    "version": 3
   },
   "file_extension": ".py",
   "mimetype": "text/x-python",
   "name": "python",
   "nbconvert_exporter": "python",
   "pygments_lexer": "ipython3",
   "version": "3.6.1"
  }
 },
 "nbformat": 4,
 "nbformat_minor": 2
}
